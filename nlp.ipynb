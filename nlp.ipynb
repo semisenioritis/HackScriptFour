{
  "cells": [
    {
      "cell_type": "code",
      "source": [
        "import pandas as pd \n",
        "import random\n",
        "import numpy as np"
      ],
      "metadata": {
        "id": "2-_pSIR5zdie"
      },
      "execution_count": null,
      "outputs": []
    },
    {
      "cell_type": "code",
      "source": [
        "dataset = pd.read_csv(\"test (1).csv\")\n",
        "row,cols = dataset.shape\n",
        "print(row)"
      ],
      "metadata": {
        "colab": {
          "base_uri": "https://localhost:8080/"
        },
        "id": "5rnWueJcbD0M",
        "outputId": "7aa3c59b-2fcb-430d-b30b-e5cbe38129b3"
      },
      "execution_count": null,
      "outputs": [
        {
          "output_type": "stream",
          "name": "stdout",
          "text": [
            "29\n"
          ]
        }
      ]
    },
    {
      "cell_type": "markdown",
      "source": [],
      "metadata": {
        "id": "5-y4VQLGq1dE"
      }
    },
    {
      "cell_type": "code",
      "source": [
        "random_weights = []\n",
        "for i in range(0,row):\n",
        "    random_weights.append(int(random.sample(range(1,100),1)[0]))"
      ],
      "metadata": {
        "id": "_HnLUQtX7mAj"
      },
      "execution_count": null,
      "outputs": []
    },
    {
      "cell_type": "code",
      "source": [
        "dataset[\"Weights\"] = random_weights\n",
        "dataset = dataset.sort_values(\"Weights\", ascending=False)\n",
        "print(dataset[\"Weights\"].max())"
      ],
      "metadata": {
        "colab": {
          "base_uri": "https://localhost:8080/"
        },
        "id": "FiM8iNrs7qCK",
        "outputId": "32386347-9dbd-4b01-cd3d-390ab9872955"
      },
      "execution_count": null,
      "outputs": [
        {
          "output_type": "stream",
          "name": "stdout",
          "text": [
            "95\n"
          ]
        }
      ]
    },
    {
      "cell_type": "code",
      "source": [
        "final = (dataset['Text Content'])\n",
        "print(final)"
      ],
      "metadata": {
        "colab": {
          "base_uri": "https://localhost:8080/"
        },
        "id": "YXrcVOTx7t-E",
        "outputId": "d5304349-7bc5-4db1-a776-6f78ba61f1ce"
      },
      "execution_count": null,
      "outputs": [
        {
          "output_type": "stream",
          "name": "stdout",
          "text": [
            "5         number:\n",
            "16          Grand\n",
            "20         Check/\n",
            "14      Subtotal:\n",
            "11           Line\n",
            "1          RENTAL\n",
            "25              #\n",
            "17         total:\n",
            "12          Total\n",
            "26       Received\n",
            "19        method:\n",
            "0       EQUIPMENT\n",
            "15           Tax:\n",
            "6        Customer\n",
            "21         Credit\n",
            "27            by:\n",
            "13               \n",
            "3           Date:\n",
            "7     Information\n",
            "18        Payment\n",
            "2         RECEIPT\n",
            "28     Signature:\n",
            "10         Phone:\n",
            "4         Receipt\n",
            "8           Name:\n",
            "9        Address:\n",
            "23         Other:\n",
            "22          Card/\n",
            "24     Check/Card\n",
            "Name: Text Content, dtype: object\n"
          ]
        }
      ]
    },
    {
      "cell_type": "code",
      "source": [
        "!pip install transformers\n",
        "!pip install pytorch"
      ],
      "metadata": {
        "colab": {
          "base_uri": "https://localhost:8080/"
        },
        "id": "fBNCGGFmEefa",
        "outputId": "ec44954b-038d-483e-c805-159019de17fb"
      },
      "execution_count": null,
      "outputs": [
        {
          "output_type": "stream",
          "name": "stdout",
          "text": [
            "Looking in indexes: https://pypi.org/simple, https://us-python.pkg.dev/colab-wheels/public/simple/\n",
            "Requirement already satisfied: transformers in /usr/local/lib/python3.9/dist-packages (4.27.1)\n",
            "Requirement already satisfied: numpy>=1.17 in /usr/local/lib/python3.9/dist-packages (from transformers) (1.22.4)\n",
            "Requirement already satisfied: tqdm>=4.27 in /usr/local/lib/python3.9/dist-packages (from transformers) (4.65.0)\n",
            "Requirement already satisfied: regex!=2019.12.17 in /usr/local/lib/python3.9/dist-packages (from transformers) (2022.10.31)\n",
            "Requirement already satisfied: tokenizers!=0.11.3,<0.14,>=0.11.1 in /usr/local/lib/python3.9/dist-packages (from transformers) (0.13.2)\n",
            "Requirement already satisfied: packaging>=20.0 in /usr/local/lib/python3.9/dist-packages (from transformers) (23.0)\n",
            "Requirement already satisfied: requests in /usr/local/lib/python3.9/dist-packages (from transformers) (2.27.1)\n",
            "Requirement already satisfied: filelock in /usr/local/lib/python3.9/dist-packages (from transformers) (3.10.0)\n",
            "Requirement already satisfied: huggingface-hub<1.0,>=0.11.0 in /usr/local/lib/python3.9/dist-packages (from transformers) (0.13.2)\n",
            "Requirement already satisfied: pyyaml>=5.1 in /usr/local/lib/python3.9/dist-packages (from transformers) (6.0)\n",
            "Requirement already satisfied: typing-extensions>=3.7.4.3 in /usr/local/lib/python3.9/dist-packages (from huggingface-hub<1.0,>=0.11.0->transformers) (4.5.0)\n",
            "Requirement already satisfied: urllib3<1.27,>=1.21.1 in /usr/local/lib/python3.9/dist-packages (from requests->transformers) (1.26.15)\n",
            "Requirement already satisfied: charset-normalizer~=2.0.0 in /usr/local/lib/python3.9/dist-packages (from requests->transformers) (2.0.12)\n",
            "Requirement already satisfied: certifi>=2017.4.17 in /usr/local/lib/python3.9/dist-packages (from requests->transformers) (2022.12.7)\n",
            "Requirement already satisfied: idna<4,>=2.5 in /usr/local/lib/python3.9/dist-packages (from requests->transformers) (3.4)\n",
            "Looking in indexes: https://pypi.org/simple, https://us-python.pkg.dev/colab-wheels/public/simple/\n",
            "Collecting pytorch\n",
            "  Using cached pytorch-1.0.2.tar.gz (689 bytes)\n",
            "  Preparing metadata (setup.py) ... \u001b[?25l\u001b[?25hdone\n",
            "Building wheels for collected packages: pytorch\n",
            "  \u001b[1;31merror\u001b[0m: \u001b[1msubprocess-exited-with-error\u001b[0m\n",
            "  \n",
            "  \u001b[31m×\u001b[0m \u001b[32mpython setup.py bdist_wheel\u001b[0m did not run successfully.\n",
            "  \u001b[31m│\u001b[0m exit code: \u001b[1;36m1\u001b[0m\n",
            "  \u001b[31m╰─>\u001b[0m See above for output.\n",
            "  \n",
            "  \u001b[1;35mnote\u001b[0m: This error originates from a subprocess, and is likely not a problem with pip.\n",
            "  Building wheel for pytorch (setup.py) ... \u001b[?25lerror\n",
            "\u001b[31m  ERROR: Failed building wheel for pytorch\u001b[0m\u001b[31m\n",
            "\u001b[0m\u001b[?25h  Running setup.py clean for pytorch\n",
            "Failed to build pytorch\n",
            "Installing collected packages: pytorch\n",
            "  \u001b[1;31merror\u001b[0m: \u001b[1msubprocess-exited-with-error\u001b[0m\n",
            "  \n",
            "  \u001b[31m×\u001b[0m \u001b[32mRunning setup.py install for pytorch\u001b[0m did not run successfully.\n",
            "  \u001b[31m│\u001b[0m exit code: \u001b[1;36m1\u001b[0m\n",
            "  \u001b[31m╰─>\u001b[0m See above for output.\n",
            "  \n",
            "  \u001b[1;35mnote\u001b[0m: This error originates from a subprocess, and is likely not a problem with pip.\n",
            "  Running setup.py install for pytorch ... \u001b[?25l\u001b[?25herror\n",
            "\u001b[1;31merror\u001b[0m: \u001b[1mlegacy-install-failure\u001b[0m\n",
            "\n",
            "\u001b[31m×\u001b[0m Encountered error while trying to install package.\n",
            "\u001b[31m╰─>\u001b[0m pytorch\n",
            "\n",
            "\u001b[1;35mnote\u001b[0m: This is an issue with the package mentioned above, not pip.\n",
            "\u001b[1;36mhint\u001b[0m: See above for output from the failure.\n"
          ]
        }
      ]
    },
    {
      "cell_type": "code",
      "source": [
        "from transformers import pipeline\n",
        "classifier = pipeline(\"zero-shot-classification\",model=\"facebook/bart-large-mnli\")\n"
      ],
      "metadata": {
        "id": "wr2A9KsI8jvY"
      },
      "execution_count": null,
      "outputs": []
    },
    {
      "cell_type": "code",
      "source": [
        "sequence_to_classify = \"soham kulkarni\"\n",
        "array_final = sequence_to_classify.split(':')\n",
        "print(array_final)\n",
        "# array_final = array_final.split()\n",
        "# print(array_final)\n",
        "print(array_final[0])\n",
        "s = array_final[0]\n",
        "s = s.split()\n"
      ],
      "metadata": {
        "colab": {
          "base_uri": "https://localhost:8080/"
        },
        "id": "21SCh6pPBtsJ",
        "outputId": "bb6dd2a5-8f9e-463f-c5a1-e981d0162b83"
      },
      "execution_count": null,
      "outputs": [
        {
          "output_type": "stream",
          "name": "stdout",
          "text": [
            "['soham kulkarni']\n",
            "soham kulkarni\n"
          ]
        }
      ]
    },
    {
      "cell_type": "code",
      "source": [
        "candidate_labels = ['name', 'price', 'product', 'address', 'phone number']\n",
        "s = np.concatenate((s, candidate_labels))\n",
        "print(s)"
      ],
      "metadata": {
        "colab": {
          "base_uri": "https://localhost:8080/"
        },
        "id": "8MHcDq3SLN7u",
        "outputId": "51721664-93a3-4e06-ca81-daa41ec52751"
      },
      "execution_count": null,
      "outputs": [
        {
          "output_type": "stream",
          "name": "stdout",
          "text": [
            "['soham' 'kulkarni' 'name' 'price' 'product' 'address' 'phone number']\n"
          ]
        }
      ]
    },
    {
      "cell_type": "code",
      "source": [
        "print(classifier(sequence_to_classify, s))\n"
      ],
      "metadata": {
        "colab": {
          "base_uri": "https://localhost:8080/"
        },
        "id": "kX5tDahOHqpA",
        "outputId": "a7701fc5-07b0-4b49-abf8-a9120d25bd78"
      },
      "execution_count": null,
      "outputs": [
        {
          "output_type": "stream",
          "name": "stdout",
          "text": [
            "{'sequence': 'soham kulkarni', 'labels': ['soham', 'kulkarni', 'name', 'address', 'product', 'price', 'phone number'], 'scores': [0.3782941699028015, 0.2762722671031952, 0.26632288098335266, 0.05154331400990486, 0.01915562152862549, 0.005601923447102308, 0.0028098581824451685]}\n"
          ]
        }
      ]
    },
    {
      "cell_type": "code",
      "source": [
        "import spacy\n",
        "\n",
        "nlp = spacy.load(\"en_core_web_sm\")\n",
        "\n",
        "text = \"Terms and Conditions Lorem ipsum dolor sit amet, consectetur adipiscing elit, sed do eiusmod tempor incididunt ut labore et dolore magna aliqua.\"\n",
        "\n",
        "doc = nlp(text)\n",
        "\n",
        "for token in doc:\n",
        "    if token.text == \"Terms\" and token.nbor().text == \"and\" and token.nbor(2).text == \"Conditions\":\n",
        "        if \"Terms\" in doc.text and \"And\" in doc.text or \"Conditions\" in doc.text and \"And\" in doc.text or \"Conditions\" in doc.text and \"Term\" in doc.text:\n",
        "            print(\"The 'Terms and Conditions' are important.\")\n",
        "            break\n",
        "        else:\n",
        "            print(\"The 'Terms and Conditions' are not explicitly marked as important.\")\n",
        "            break\n"
      ],
      "metadata": {
        "colab": {
          "base_uri": "https://localhost:8080/"
        },
        "id": "P4aPPSQwTl-F",
        "outputId": "6bd2f0f8-872c-4690-9d2f-2d3a14095fc5"
      },
      "execution_count": null,
      "outputs": [
        {
          "output_type": "stream",
          "name": "stdout",
          "text": [
            "The 'Terms and Conditions' are important.\n"
          ]
        }
      ]
    },
    {
      "cell_type": "code",
      "source": [
        "review = \"Terms and Conditions Lorem ipsum dolor sit amet, consectetur adipiscing elit, sed do eiusmod tempor incididunt ut labore et dolore magna aliqua.\"\n",
        "import re\n",
        "import nltk\n",
        "nltk.download('stopwords')\n",
        "from nltk.corpus import stopwords\n",
        "from nltk.stem.porter import PorterStemmer\n",
        "corpus = []\n"
      ],
      "metadata": {
        "colab": {
          "base_uri": "https://localhost:8080/"
        },
        "id": "f_M0IBxwZNJE",
        "outputId": "4baa3a51-4684-45c6-8fe5-13fb4315e0bd"
      },
      "execution_count": null,
      "outputs": [
        {
          "output_type": "stream",
          "name": "stderr",
          "text": [
            "[nltk_data] Downloading package stopwords to /root/nltk_data...\n",
            "[nltk_data]   Package stopwords is already up-to-date!\n"
          ]
        }
      ]
    },
    {
      "cell_type": "code",
      "source": [
        "review = review.lower()\n",
        "review = review.split()\n",
        "ps = PorterStemmer()\n",
        "all_stopwords = stopwords.words('english')\n",
        "all_stopwords.remove('not')\n",
        "review = [ps.stem(word) for word in review if not word in set(all_stopwords)]\n",
        "review = ' '.join(review)\n",
        "corpus.append(review)\n"
      ],
      "metadata": {
        "id": "6i4xMbdVaW69"
      },
      "execution_count": null,
      "outputs": []
    },
    {
      "cell_type": "code",
      "source": [
        "print(corpus)"
      ],
      "metadata": {
        "colab": {
          "base_uri": "https://localhost:8080/"
        },
        "id": "HXiLQVYua0Ku",
        "outputId": "e29dfb91-5f3c-46cf-809a-a13dace91217"
      },
      "execution_count": null,
      "outputs": [
        {
          "output_type": "stream",
          "name": "stdout",
          "text": [
            "['term condit lorem ipsum dolor sit amet, consectetur adipisc elit, sed eiusmod tempor incididunt ut labor et dolor magna aliqua.']\n"
          ]
        }
      ]
    }
  ],
  "metadata": {
    "colab": {
      "provenance": []
    },
    "kernelspec": {
      "display_name": "Python 3",
      "name": "python3"
    },
    "language_info": {
      "name": "python"
    }
  },
  "nbformat": 4,
  "nbformat_minor": 0
}